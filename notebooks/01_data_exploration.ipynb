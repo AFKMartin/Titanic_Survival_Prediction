{
 "cells": [
  {
   "cell_type": "code",
   "execution_count": 6,
   "id": "7ac7d16b",
   "metadata": {},
   "outputs": [
    {
     "name": "stdout",
     "output_type": "stream",
     "text": [
      "Title\n",
      "Mr        757\n",
      "Miss      264\n",
      "Mrs       198\n",
      "Master     61\n",
      "Rare       29\n",
      "Name: count, dtype: int64\n"
     ]
    }
   ],
   "source": [
    "import pandas as pd\n",
    "from sklearn.preprocessing import LabelEncoder\n",
    "from sklearn.model_selection import train_test_split\n",
    "\n",
    "# Load data\n",
    "train = pd.read_csv(\"../data/raw/train.csv\")\n",
    "test = pd.read_csv(\"../data/raw/test.csv\")\n",
    "\n",
    "# Merge train and test\n",
    "train[\"TrainSplit\"] = 1\n",
    "test[\"TestSplit\"] = 0\n",
    "test[\"Survived\"] = None\n",
    "\n",
    "full = pd.concat([train, test], sort=False)\n",
    "\n",
    "# Extract title name\n",
    "full[\"Title\"] = full[\"Name\"].str.extract(\" ([A-Za-z]+)\\.\", expand=False)\n",
    "\n",
    "# Set all titles to a standart\n",
    "full[\"Title\"] = full[\"Title\"].replace([\"Mlle\", \"Ms\"], \"Miss\")\n",
    "full[\"Title\"] = full[\"Title\"].replace(\"Mme\", \"Mrs\")\n",
    "full[\"Title\"] = full[\"Title\"].replace([\"Lady\", \"Countess\", \"Capt\", \"Col\", \"Don\", \"Dr\", \n",
    "                                       \"Major\", \"Rev\", \"Sir\", \"Jonkheer\", \"Dona\"], \"Rare\")\n",
    "\n",
    "print(full[\"Title\"].value_counts())"
   ]
  },
  {
   "cell_type": "code",
   "execution_count": 7,
   "id": "fa197a2b",
   "metadata": {},
   "outputs": [
    {
     "name": "stdout",
     "output_type": "stream",
     "text": [
      "PassengerId       0\n",
      "Survived        418\n",
      "Pclass            0\n",
      "Name              0\n",
      "Sex               0\n",
      "Age             263\n",
      "SibSp             0\n",
      "Parch             0\n",
      "Ticket            0\n",
      "Fare              1\n",
      "Cabin          1014\n",
      "Embarked          2\n",
      "TrainSplit      418\n",
      "TestSplit       891\n",
      "Title             0\n",
      "dtype: int64\n"
     ]
    }
   ],
   "source": [
    "# Check for nulls\n",
    "print(full.isnull().sum())"
   ]
  },
  {
   "cell_type": "code",
   "execution_count": 3,
   "id": "9a2ba201",
   "metadata": {},
   "outputs": [
    {
     "name": "stdout",
     "output_type": "stream",
     "text": [
      "PassengerId       0\n",
      "Survived        418\n",
      "Pclass            0\n",
      "Name              0\n",
      "Sex               0\n",
      "Age               0\n",
      "SibSp             0\n",
      "Parch             0\n",
      "Ticket            0\n",
      "Fare              0\n",
      "Cabin          1014\n",
      "Embarked          0\n",
      "TrainSplit      418\n",
      "TestSplit       891\n",
      "Title             0\n",
      "dtype: int64\n"
     ]
    }
   ],
   "source": [
    "# Use median for Age \n",
    "full[\"Age\"].fillna(full[\"Age\"].median(), inplace=True)\n",
    "\n",
    "# Use median for Fare\n",
    "full[\"Fare\"].fillna(full[\"Fare\"].median(), inplace=True)\n",
    "\n",
    "# Use mode for Embark\n",
    "full[\"Embarked\"].fillna(full[\"Embarked\"].mode()[0], inplace=True)\n",
    "\n",
    "# Check NaNs\n",
    "print(full.isnull().sum())"
   ]
  },
  {
   "cell_type": "code",
   "execution_count": 4,
   "id": "3403c36f",
   "metadata": {},
   "outputs": [
    {
     "name": "stdout",
     "output_type": "stream",
     "text": [
      "   Sex  Embarked  Title\n",
      "0    1         2      2\n",
      "1    0         0      3\n",
      "2    0         2      1\n",
      "3    0         2      3\n",
      "4    1         2      2\n",
      "5    1         1      2\n",
      "6    1         2      2\n",
      "7    1         2      0\n",
      "8    0         2      3\n",
      "9    0         0      3\n"
     ]
    }
   ],
   "source": [
    "label = LabelEncoder()\n",
    "\n",
    "for col in [\"Sex\", \"Embarked\", \"Title\"]:\n",
    "    full[col] = label.fit_transform(full[col])\n",
    "\n",
    "print(full[[\"Sex\", \"Embarked\", \"Title\"]].head(10))\n"
   ]
  },
  {
   "cell_type": "code",
   "execution_count": null,
   "id": "fe65c1b8",
   "metadata": {},
   "outputs": [],
   "source": [
    "train_df = full[full[\"TrainSplit\"] == 1]\n",
    "test_df = full[full[\"TestSplit\"] == 0]\n",
    "\n",
    "features = [\"Pclass\", \"Sex\", \"Age\", \"SibSp\", \"Parch\", \"Fare\", \"Embarked\", \"Title\"]\n",
    "\n",
    "X = train_df[features]\n",
    "y = train_df[\"Survived\"].astype(int)\n",
    "X_test = test_df[features]\n",
    "\n",
    "X_train, X_val, y_train, y_val = train_test_split(X, y, test_size=0.2, random_state=42)\n",
    "\n",
    "train_df[features + [\"Survived\"]].to_csv(\"../data/processed/train_clean.csv\", index=False)\n",
    "test_df[features].to_csv(\"../data/processed/test_clean.csv\", index=False)\n",
    "\n",
    "train_clean = pd.read_csv(\"../data/processed/train_clean.csv\")\n",
    "test_clean = pd.read_csv(\"../data/processed/test_clean.csv\")\n",
    "\n",
    "print(train_clean.head())\n",
    "print(test_clean.head())\n"
   ]
  }
 ],
 "metadata": {
  "kernelspec": {
   "display_name": "Python 3",
   "language": "python",
   "name": "python3"
  },
  "language_info": {
   "codemirror_mode": {
    "name": "ipython",
    "version": 3
   },
   "file_extension": ".py",
   "mimetype": "text/x-python",
   "name": "python",
   "nbconvert_exporter": "python",
   "pygments_lexer": "ipython3",
   "version": "3.11.4"
  }
 },
 "nbformat": 4,
 "nbformat_minor": 5
}
