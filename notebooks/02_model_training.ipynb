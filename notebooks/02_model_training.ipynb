{
 "cells": [
  {
   "cell_type": "code",
   "execution_count": null,
   "id": "66550cd0",
   "metadata": {},
   "outputs": [
    {
     "name": "stdout",
     "output_type": "stream",
     "text": [
      "\n",
      " Accuracy: 0.7988826815642458\n",
      "\n",
      " Confusion Matrix:\n",
      " [[90 15]\n",
      " [21 53]]\n",
      "\n",
      " Classification Report:\n",
      "               precision    recall  f1-score   support\n",
      "\n",
      "           0       0.81      0.86      0.83       105\n",
      "           1       0.78      0.72      0.75        74\n",
      "\n",
      "    accuracy                           0.80       179\n",
      "   macro avg       0.80      0.79      0.79       179\n",
      "weighted avg       0.80      0.80      0.80       179\n",
      "\n",
      "\n",
      " Model saved in '../models/xgb_titanic_model.pkl'\n"
     ]
    }
   ],
   "source": [
    "import xgboost as xgb\n",
    "from sklearn.metrics import accuracy_score, confusion_matrix, classification_report\n",
    "import joblib\n",
    "import pandas as pd\n",
    "from sklearn.model_selection import train_test_split\n",
    "\n",
    "train = pd.read_csv(\"../data/processed/train_clean.csv\")\n",
    "test = pd.read_csv(\"../data/processed/test_clean.csv\")\n",
    "\n",
    "features = [\"Pclass\", \"Sex\", \"Age\", \"SibSp\", \"Parch\", \"Fare\", \"Embarked\", \"Title\"]\n",
    "X = train[features]\n",
    "y = train[\"Survived\"]\n",
    "\n",
    "X_train, X_val, y_train, y_val = train_test_split(X, y, test_size=0.2, random_state=42)\n",
    "\n",
    "model = xgb.XGBClassifier(\n",
    "    n_estimators=100,\n",
    "    max_depth=3,\n",
    "    learning_rate=0.1,\n",
    "    # use_label_encoder=False,\n",
    "    eval_metric='logloss',\n",
    "    random_state=42\n",
    ")\n",
    "\n",
    "model.fit(X_train, y_train)\n",
    "\n",
    "y_pred = model.predict(X_val)\n",
    "\n",
    "print(\"\\n Accuracy:\", accuracy_score(y_val, y_pred))\n",
    "print(\"\\n Confusion Matrix:\\n\", confusion_matrix(y_val, y_pred))\n",
    "print(\"\\n Classification Report:\\n\", classification_report(y_val, y_pred))\n",
    "\n",
    "joblib.dump(model, \"../models/xgb_titanic_model.pkl\")\n",
    "print(\"\\n Model saved in '../models/xgb_titanic_model.pkl'\")\n"
   ]
  },
  {
   "cell_type": "code",
   "execution_count": 7,
   "id": "7bc16002",
   "metadata": {},
   "outputs": [
    {
     "name": "stdout",
     "output_type": "stream",
     "text": [
      " Prediction saved in '../submissions/xgb_submission.csv'\n"
     ]
    }
   ],
   "source": [
    "model = joblib.load(\"../models/xgb_titanic_model.pkl\")\n",
    "\n",
    "test_predictions = model.predict(test)\n",
    "\n",
    "submission = pd.DataFrame({\n",
    "    \"PassengerId\": range(892, 892 + len(test_predictions)),  \n",
    "    \"Survived\": test_predictions\n",
    "})\n",
    "submission.to_csv(\"../submissions/xgb_submission.csv\", index=False)\n",
    "print(\" Prediction saved in '../submissions/xgb_submission.csv'\")\n"
   ]
  }
 ],
 "metadata": {
  "kernelspec": {
   "display_name": "Python 3",
   "language": "python",
   "name": "python3"
  },
  "language_info": {
   "codemirror_mode": {
    "name": "ipython",
    "version": 3
   },
   "file_extension": ".py",
   "mimetype": "text/x-python",
   "name": "python",
   "nbconvert_exporter": "python",
   "pygments_lexer": "ipython3",
   "version": "3.11.4"
  }
 },
 "nbformat": 4,
 "nbformat_minor": 5
}
